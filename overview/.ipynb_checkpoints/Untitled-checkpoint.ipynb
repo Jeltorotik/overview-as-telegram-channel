{
 "cells": [
  {
   "cell_type": "code",
   "execution_count": 50,
   "metadata": {},
   "outputs": [],
   "source": [
    "from bs4 import BeautifulSoup\n",
    "import html2text\n",
    "\n",
    "import urllib\n",
    "import requests\n",
    "\n",
    "import re\n",
    "\n",
    "import shutil\n",
    "import os.path\n"
   ]
  },
  {
   "cell_type": "code",
   "execution_count": 94,
   "metadata": {},
   "outputs": [],
   "source": [
    "!subl parser.py"
   ]
  },
  {
   "cell_type": "code",
   "execution_count": 92,
   "metadata": {},
   "outputs": [],
   "source": [
    "def parse_article(url):\n",
    "    r = requests.get(url)\n",
    "    if r.status_code != 200:\n",
    "        return\n",
    "    soup = BeautifulSoup(r.content, 'lxml')\n",
    "    \n",
    "    \n",
    "    #Parsing of title, description and coords\n",
    "    title = soup.find(\"title\").text\n",
    "    description = soup.find(\"p\", {\"class\" : \"body-copy-small overview-description\"}).text\n",
    "    coordinates = soup.find(\"p\", {\"class\" : \"caption overview-geo\"}).text\n",
    "    \n",
    "    #TODO: Как-то сохранять title, description и coords\n",
    "    print(title)\n",
    "    print(description)\n",
    "    print(coordinates)\n",
    "    \n",
    "    \n",
    "    #Parsing of img\n",
    "    img_link = [i for i in soup.find(\"picture\")][1][\"src\"]\n",
    "    img_link = re.findall(r'([^?]+)', img_link)[0]\n",
    "    \n",
    "    response = requests.get(img_link, stream=True)\n",
    "\n",
    "    name_of_file = url.split(\"/\")[-1] + \".jpg\"\n",
    "    img_filepath = os.path.join(\"imgs\", name_of_file) \n",
    "    print(img_filepath)\n",
    "\n",
    "    # сохраняем картинку\n",
    "    with open(img_filepath, 'wb') as out_file:\n",
    "        shutil.copyfileobj(response.raw, out_file)\n",
    "\n",
    "    del response"
   ]
  },
  {
   "cell_type": "markdown",
   "metadata": {},
   "source": [
    "## Parsing of index page:"
   ]
  },
  {
   "cell_type": "code",
   "execution_count": 1,
   "metadata": {},
   "outputs": [],
   "source": [
    "from selenium import webdriver"
   ]
  },
  {
   "cell_type": "code",
   "execution_count": 22,
   "metadata": {},
   "outputs": [],
   "source": [
    "path = r\"/home/kirill/Desktop/Coding/Python/overview-as-telegram-channel/geckodriver\"\n",
    "driver = webdriver.Firefox(executable_path=path)\n",
    "driver.get('https://www.over-view.com/digital-index/?page=1&configure%5BhitsPerPage%5D=30')\n",
    "soup = BeautifulSoup(driver.page_source, \"lxml\")"
   ]
  },
  {
   "cell_type": "code",
   "execution_count": 46,
   "metadata": {
    "scrolled": false
   },
   "outputs": [],
   "source": [
    "rows = soup.select(\"ul.ais-Hits-list > li > a\")\n",
    "\n",
    "overview_links = []\n",
    "for row in rows:\n",
    "    overview_links.append(row.get('href'))\n",
    "    "
   ]
  },
  {
   "cell_type": "code",
   "execution_count": 93,
   "metadata": {
    "scrolled": true
   },
   "outputs": [
    {
     "name": "stdout",
     "output_type": "stream",
     "text": [
      "Adelaide Canola Flowers\n",
      "Yellow canola fields are visible across the landscape north of Adelaide, Australia. While various crops are grown here, the canola fields are easy to notice because of their vibrant flowering color. The crop is grown for the production of oil, which is extracted by slightly heating and then crushing the flower seeds. Canola oil is primarily used as a source of biodiesel and also for cooking purposes.\n",
      "-34.439861°, 138.557833°\n",
      "imgs/adelaide-canola-flowers.jpg\n",
      "Adelaide Rift Complex\n",
      "Rock formations of the Adelaide Rift Complex are visible in the South Australian Outback. The swirling patterns are composed of folded and faulted sediments that were deposited there in a large basin more than 540 million years ago. Since then, the land folded and faulted to become a large mountain range and then underwent extensive erosion to become the relatively low ranges that we see today. For a sense of scale, this Overview is approximately 100 square miles.\n",
      "-29.791018°, 137.823069°\n",
      "imgs/adelaide-rift-complex.jpg\n",
      "Adriatic Tankers\n",
      "Massive oil tankers are dwarfed by the Adriatic Sea just outside the Port of Venice, Italy. Last year, 26.4 million tons of freight passed through the port — an increase of more than 1 million tons from 2017. Of this, at least 7.7 million tons was refined petroleum products, and much of the rest was dry bulk goods and containerized cargo.\n",
      "45.315253°, 12.071250°\n",
      "imgs/adriatic-tankers.jpg\n",
      "Adventuredome\n",
      "Adventuredome is a five-acre indoor amusement park on the Las Vegas Strip in Nevada, USA. The facility's main structure consists of more than 350,000 square feet of pink insulated glass. Inside are two roller coasters, a water ride, rock climbing wall, 18-hole miniature golf course and dozens of carnival games.\n",
      "36.138056°, -115.167389°\n",
      "imgs/adventuredome.jpg\n",
      "Akimiski Island\n",
      "Akimiski Island is the largest island in James Bay (a southeasterly extension of Hudson Bay), Canada. Most of the vegetation covering the island consists of lichen, moss, sedges and black dwarf spruce, giving it a vibrant color scheme from the aerial perspective. The island has no year-round human inhabitants; however, it is home to the 1,300-square-mile (3,367-sq-km) Akimiski Island Migratory Bird Sanctuary.\n",
      "53.000000°, -81.333333°\n",
      "imgs/akimiski-island.jpg\n",
      "Al Falah Housing Project\n",
      "The Al Falah Housing Project is located in Abu Dhabi, United Arab Emirates. The development covers 12.5 million square meters with 4,857 villas as well as mosques, schools, a shopping mall, and a hospital.\n",
      "24.445187°, 54.719998°\n",
      "imgs/al-falah-housing-project.jpg\n",
      "Alabama Tornadoes\n",
      "Have a look at these Overviews to see the destruction caused by four tornadoes that tore through Lee County, Alabama, on Sunday. Latest news reports say 23 people were killed in the disaster and nearly 80 more were injured. Many trees, homes and other structures were destroyed. According to the National Weather Service, these tornadoes were among a group of 34 that struck Alabama, Florida, Georgia and South Carolina over the weekend — with one in Lee County reaching wind speeds of 170 mph (273 km/h).\n",
      "32.477972°, -85.367750°\n",
      "imgs/alabama-tornadoes.jpg\n",
      "Alakol Lake\n",
      "Alakol Lake is a 1,020-square-mile (2,650 sq. km) salt lake located in east central Kazakhstan. The lake, which aptly translates to \"multicolored lake,\" has varying shades of blue and green depending on its depth, levels of phytoplankton, and sediments flowing in from rivers and streams. Its mineral-rich water and mud are believed to be therapeutic, attracting many visitors who seek a natural remedy for psoriasis and other skin ailments.\n",
      "46.104867°, 81.178937°\n",
      "imgs/alakol-lake.jpg\n",
      "Albenga\n",
      "Albenga is a city situated on the Gulf of Genoa in Italy. The economy of Albenga is primarily driven by tourism, local commerce, and agriculture. When viewing the town from above, it’s easy to see the amount of space dedicated to agriculture because of the widespread use of greenhouses or \"plasticulture.\" The use of plastic covering is designed to increase produce yield, increase produce size, and shorten growth time.\n",
      "44.049985°, 8.216569°\n",
      "imgs/albenga.jpg\n",
      "Albuquerque Baseball Complex\n",
      "The Albuquerque Baseball Complex is part of an 81-acre, city-owned sports complex in the Westland North community of Albuquerque, New Mexico. Its five fully lit turfed fields provide space for local baseball and softball teams to practice and play, and grandstand seating allows the facility to host regional and national tournaments. Next June, this sports complex will host the National Senior Games, a 20-sport biennial competition for men and women ages 50 and older.\n",
      "35.095083°, -106.763639°\n",
      "imgs/albuquerque-baseball-complex.jpg\n",
      "Alta Wind Energy Center\n",
      "Located in the Tehachapi Mountains of California, the Alta Wind Energy Center is the largest wind farm in the US, and third largest onshore farm in the world. The facility plans to reduce carbon dioxide emission by more then 5.2 million metric tons over the next 25 years, which is roughly the same as eliminating 446,000 cars off the road.\n",
      "35.021111°, -118.320556°\n",
      "imgs/alta-wind-energy-center.jpg\n",
      "Altocumulus clouds\n",
      "Altocumulus clouds - characterized by their patchy dispersal and elevation above 6,500 feet - pass over Yolöten, Turkmenistan. The town is located on the Murgab River and has a population of 37,000.\n",
      "37.300000°, 62.350000°\n",
      "imgs/altocumulus-clouds.jpg\n",
      "Amsterdam\n",
      "This Overview details the canal system of Amsterdam -- known as “Grachten.” In the early 17th century, when immigration was at a peak, a comprehensive plan for the city’s expansion was developed with four concentric half-circles of canals emerging at the main waterfront (seen on the right-hand side of this Overview). In the centuries since, the canals have been used for defense, water management, and transport. They remain a hallmark of the city to this day.\n",
      "52.366667°, 4.900000°\n",
      "imgs/amsterdam.jpg\n",
      "Anak Krakatoa Eruption (Juxtapose)\n",
      "Check out these amazing shots of the Anak Krakatoa caldera before and after its collapse in December 2018. The first Overview from January 2019 shows rust-colored sulfuric leftovers from the eruption in the surrounding water and the second, taken November 2017, shows smoke and lava flowing out of the caldera about a year before it collapsed. Anak Krakatoa is located in the Sunda Strait between the islands of Java and Sumatra, Indonesia.\n",
      "-6.102111°, 105.414222°\n",
      "imgs/anak-krakatoa-eruption-juxtapose.jpg\n",
      "Ancient Ruins of Palmyra\n",
      "In the past week, fighters from the Islamic State seized the ancient oasis city of Palmyra, Syria. Located at the crossroads of ancient Greek, Roman, Persian, and Islamic cultures, the city contains some of the world’s oldest known antiquities and ruins. The fabled amphitheater and the Temple of Bel seen in this Overview were completed as far back as 32 AD. ISIS despises antiquity since it represents culture that predates Islam and experts predict that they will vandalize and destroy these ancient ruins.\n",
      "34.547438°, 38.274651°\n",
      "imgs/ancient-ruins-of-palmyra.jpg\n",
      "Andean Mountain Vineyards\n",
      "Vineyards line the foothills of the Andean Mountains in Chile’s Valparaíso Region, roughly 55 miles (88 km) north of Santiago. Grapes grown in this wine region, called the Aconcagua Valley, are often irrigated with snow melt from surrounding mountains and have produced red wines of international acclaim.\n",
      "-32.818694°, -70.835639°\n",
      "imgs/andean-mountain-vineyards.jpg\n",
      "Angas Inlet Trees\n",
      "Trees grow inside the hull of a sunken ship in the Angas Inlet, an arm of the Gulf St. Vincent in Adelaide, Southern Australia. In this inlet and others nearby can be found the remains of more than 30 iron and wooden ships abandoned up until 1945. They serve as canoeing attractions and bird roosts for upwards of 200 species of local and migratory birds.\n",
      "-34.812361°, 138.540000°\n",
      "imgs/angas-inlet-trees.jpg\n",
      "Angkor Wat\n",
      "Angkor Wat is a temple complex in Cambodia that is the largest religious monument in the world (first it was Hindu, then Buddhist). Constructed in the 12th century, the 820,000 square meter site features a moat and forest that harmoniously surround a massive temple at its center.\n",
      "13.412500°, 103.866667°\n",
      "imgs/angkor-wat.jpg\n",
      "Ankara Residential Development\n",
      "A residential section of northern Ankara, Turkey, is shown in this Overview. Ankara is Turkey’s capital and second largest city (after Istanbul), with more than 5.4 million residents. Historically known as Angora, the city lends its name to Angora wool, which is shorn from Angora rabbits and the long-haired Angora goat – the source of mohair.\n",
      "39.987500°, 32.850167°\n"
     ]
    },
    {
     "name": "stdout",
     "output_type": "stream",
     "text": [
      "imgs/ankara-residential-development.jpg\n",
      "Antofagasta, Chile\n",
      "Waves of the Pacific Ocean roll into the city of Antofagasta, situated on the coast of Chile. Because this area is situated in the Atacama Desert - the driest region in the world - it has incredibly sparse vegetation. In total, Antofagasta is home to roughly 400,000 residents and is the third largest city in the county.\n",
      "-23.650000°, -70.400000°\n",
      "imgs/antofagasta-chile.jpg\n",
      "Apple Park\n",
      "Apple Park is the corporate headquarters of Apple Inc., located in Cupertino, California, USA. It was opened to employees in April 2017, superseding the original \"Apple Campus,\" which opened in 1993. Currently, more than 12,000 employees work in the four-story office building, which has a circumference of 1 mile (1.6 km) and a floor area of 2.8 million square feet (260,000 square meters).\n",
      "37.334185°, -122.009930°\n",
      "imgs/apple-park.jpg\n",
      "Aquatica Water Park\n",
      "Check out this Overview of Aquatica, a water park in San Antonio, Texas. Constructed in 2012, Aquatica boasts several water slides, pools, a 42,000-square-foot beach area, an aviary, and its signature “Stingray Falls,” a family raft ride that runs through an underground grotto full of stingrays and tropical fish.\n",
      "29.458417°, -98.698139°\n",
      "imgs/aquatica-water-park.jpg\n",
      "Aral Sea\n",
      "The Aral Sea was an endoheic lake (one with no outflow) located between Kazakhstan and Uzbekistan. Once the fourth largest lake in the world with an area of 26,300 square miles (68,000 sq. km), it has been shrinking since the 1960s after rivers that fed it were diverted by Soviet irrigation projects. By 1997, it had declined to 10% of its original size and split into four lakes, one of which has since disappeared. The shrinking of the Aral Sea has been called one of the planet's worst environmental disasters.\n",
      "45.510578°, 58.757118°\n",
      "imgs/aral-sea.jpg\n",
      "Arc De Triomphe\n",
      "The Arc de Triomphe is located at the center of 12 radiating avenues in Paris, France. Yesterday, millions took to these streets to celebrate France’s second FIFA World Cup victory (with a 4-2 final win over Croatia). Today, players and coaches will parade up the Champs-Elysees avenue, which passes diagonally through this Overview from bottom left to upper right.\n",
      "48.873778°, 2.295000°\n",
      "imgs/arc-de-triomphe.jpg\n",
      "Arecibo Observatory\n",
      "The Arecibo Observatory is a radio telescope in the municipality of Arecibo, Puerto Rico. The telescope, which is 1,000 feet (305 m) in diameter, is used for three major areas of research — radio astronomy, atmospheric science, and radar astronomy. Last year, high winds associated with Hurricane Maria caused a line feed on the telescope to break and fall onto the primary dish, damaging about 30 of its 38,000 aluminum panels.\n",
      "18.344167°, -66.752778°\n",
      "imgs/arecibo-observatory.jpg\n",
      "Arizona Rock Formations\n",
      "In this Overview, large rock formations are shown rising above the desert landscape in Northeastern Arizona, USA. This region is arid, largely void of greenery, and characterized by hills, mesas, buttes, cliffs and canyons. This particular outcrop is about 12.5 miles (20 km) due east of the Navajo National Monument, which contains the well-preserved cliff dwellings of the Ancestral Puebloan People.\n",
      "36.052111°, -109.118611°\n",
      "imgs/arizona-rock-formations.jpg\n"
     ]
    }
   ],
   "source": [
    "for url in overview_links:\n",
    "    url = \"https://www.over-view.com/\" + url\n",
    "    parse_article(url)\n",
    "    "
   ]
  },
  {
   "cell_type": "markdown",
   "metadata": {},
   "source": [
    "# Telegram Bot"
   ]
  },
  {
   "cell_type": "code",
   "execution_count": 2,
   "metadata": {},
   "outputs": [
    {
     "name": "stdout",
     "output_type": "stream",
     "text": [
      "Help on function send_photo in module telebot:\n",
      "\n",
      "send_photo(self, chat_id, photo, caption=None, reply_to_message_id=None, reply_markup=None, parse_mode=None, disable_notification=None, timeout=None)\n",
      "    Use this method to send photos.\n",
      "    :param disable_notification:\n",
      "    :param chat_id:\n",
      "    :param photo:\n",
      "    :param caption:\n",
      "    :param parse_mode\n",
      "    :param reply_to_message_id:\n",
      "    :param reply_markup:\n",
      "    :return: API reply.\n",
      "\n"
     ]
    }
   ],
   "source": [
    "#!pip install pyTelegramBotAPI\n",
    "import telebot\n",
    "import telegram\n",
    "\n",
    "with open('bot_token.txt', 'r') as f:\n",
    "    TOKEN = f.read()\n",
    "    f.close()\n",
    "\n",
    "bot = telebot.TeleBot(TOKEN)\n",
    "\n",
    "OVERVIEW_ID = -1001308741280\n",
    "def post_article(title, description, coords, link, img_path):\n",
    "    \n",
    "    post_text = f'<b>{title}</b>\\n\\n{description}\\n\\n{coords}\\n\\nLink: {link}'\n",
    "    \n",
    "    bot.send_photo(OVERVIEW_ID, \n",
    "                   photo = open(img_path, 'rb'), \n",
    "                   caption = post_text,\n",
    "                   parse_mode=telegram.ParseMode.HTML\n",
    "                  )"
   ]
  },
  {
   "cell_type": "code",
   "execution_count": 2,
   "metadata": {},
   "outputs": [],
   "source": [
    "@bot.message_handler(content_types=['text'])\n",
    "def check(message):\n",
    "    \n",
    "    print(message.text)\n",
    "    print(message.chat.id)\n",
    "    bot.send_message(message.chat.id, str(message.chat.id))\n",
    "        \n",
    "\n",
    "\n",
    "bot.polling()"
   ]
  },
  {
   "cell_type": "markdown",
   "metadata": {},
   "source": [
    "# While loop"
   ]
  },
  {
   "cell_type": "code",
   "execution_count": 5,
   "metadata": {
    "scrolled": true
   },
   "outputs": [
    {
     "name": "stdout",
     "output_type": "stream",
     "text": [
      "Defaulting to user installation because normal site-packages is not writeable\n",
      "Collecting schedule\n",
      "  Downloading schedule-0.6.0-py2.py3-none-any.whl (8.7 kB)\n",
      "Installing collected packages: schedule\n",
      "Successfully installed schedule-0.6.0\n"
     ]
    }
   ],
   "source": [
    "!pip3 install schedule"
   ]
  },
  {
   "cell_type": "code",
   "execution_count": 1,
   "metadata": {
    "scrolled": true
   },
   "outputs": [
    {
     "name": "stdout",
     "output_type": "stream",
     "text": [
      "2020-07-13 17:58:26.781869\n",
      "2020-07-13 17:58:46.796569\n",
      "It is 01:00\n",
      "2020-07-13 17:59:06.813312\n"
     ]
    },
    {
     "ename": "KeyboardInterrupt",
     "evalue": "",
     "output_type": "error",
     "traceback": [
      "\u001b[0;31m---------------------------------------------------------------------------\u001b[0m",
      "\u001b[0;31mKeyboardInterrupt\u001b[0m                         Traceback (most recent call last)",
      "\u001b[0;32m<ipython-input-1-b750a69cd47a>\u001b[0m in \u001b[0;36m<module>\u001b[0;34m\u001b[0m\n\u001b[1;32m     14\u001b[0m     \u001b[0mschedule\u001b[0m\u001b[0;34m.\u001b[0m\u001b[0mrun_pending\u001b[0m\u001b[0;34m(\u001b[0m\u001b[0;34m)\u001b[0m\u001b[0;34m\u001b[0m\u001b[0;34m\u001b[0m\u001b[0m\n\u001b[1;32m     15\u001b[0m     \u001b[0mprint\u001b[0m\u001b[0;34m(\u001b[0m\u001b[0mdatetime\u001b[0m\u001b[0;34m.\u001b[0m\u001b[0mdatetime\u001b[0m\u001b[0;34m.\u001b[0m\u001b[0mnow\u001b[0m\u001b[0;34m(\u001b[0m\u001b[0;34m)\u001b[0m\u001b[0;34m)\u001b[0m\u001b[0;34m\u001b[0m\u001b[0;34m\u001b[0m\u001b[0m\n\u001b[0;32m---> 16\u001b[0;31m     \u001b[0mtime\u001b[0m\u001b[0;34m.\u001b[0m\u001b[0msleep\u001b[0m\u001b[0;34m(\u001b[0m\u001b[0;36m20\u001b[0m\u001b[0;34m)\u001b[0m \u001b[0;31m# wait one minute\u001b[0m\u001b[0;34m\u001b[0m\u001b[0;34m\u001b[0m\u001b[0m\n\u001b[0m",
      "\u001b[0;31mKeyboardInterrupt\u001b[0m: "
     ]
    }
   ],
   "source": [
    "import time\n",
    "import schedule \n",
    "\n",
    "\n",
    "schedule.every().day.at(\"9:00\").do(post)\n",
    "\n",
    "\n",
    "while True:\n",
    "    schedule.run_pending()\n",
    "    #print(datetime.datetime.now())\n",
    "    time.sleep(60) # wait one minute"
   ]
  },
  {
   "cell_type": "code",
   "execution_count": 3,
   "metadata": {},
   "outputs": [],
   "source": [
    "import utils\n",
    "from collections import OrderedDict\n",
    "\n",
    "\n",
    "config = OrderedDict([('host', 'localhost'), ('db', 'overview'), ('user', 'jeltorotik'), ('pass', '321')])\n",
    "\n",
    "overview_db = utils.OverView_db(config)\n",
    "\n",
    "\n",
    "post_1 = {\n",
    "    \"path_to_image\" : \"imgs/adelaide-canola-flowers.jpg\",\n",
    "    \"post_text\" : \"Chicago is the most populous city in the state of Illinois and the third most populous city in the United States, with upwards of 2.7 million people. Located on the shores of Lake Michigan, the city’s gridded avenues stretch from the vibrant waters. For a sense of scale, O’Hare International Airport, which covers 11.9 square miles (30.8 square km), is visible in the bottom left.\",\n",
    "    \"post_header\" : \"Chicago and Lake Michigan\",\n",
    "    \"coordinates\" : \"41.881944°, -87.627778°\",\n",
    "    \"posted\" : \"FALSE\"\n",
    "    #\"link\" : \"https://www.over-view.com/overviews/adelaide-canola-flowers\"\n",
    "}\n"
   ]
  },
  {
   "cell_type": "code",
   "execution_count": 4,
   "metadata": {
    "scrolled": true
   },
   "outputs": [
    {
     "ename": "NotNullViolation",
     "evalue": "null value in column \"posted\" violates not-null constraint\nDETAIL:  Failing row contains (129, imgs/adelaide-canola-flowers.jpg, Chicago is the most populous city in the state of Illinois and t..., Chicago and Lake Michigan, 41.881944°, -87.627778°, null).\n",
     "output_type": "error",
     "traceback": [
      "\u001b[0;31m---------------------------------------------------------------------------\u001b[0m",
      "\u001b[0;31mNotNullViolation\u001b[0m                          Traceback (most recent call last)",
      "\u001b[0;32m<ipython-input-4-23c85ff81280>\u001b[0m in \u001b[0;36m<module>\u001b[0;34m\u001b[0m\n\u001b[0;32m----> 1\u001b[0;31m \u001b[0moverview_db\u001b[0m\u001b[0;34m.\u001b[0m\u001b[0madd_post\u001b[0m\u001b[0;34m(\u001b[0m\u001b[0mpost_1\u001b[0m\u001b[0;34m)\u001b[0m\u001b[0;34m\u001b[0m\u001b[0;34m\u001b[0m\u001b[0m\n\u001b[0m\u001b[1;32m      2\u001b[0m \u001b[0;34m\u001b[0m\u001b[0m\n\u001b[1;32m      3\u001b[0m \u001b[0mprint\u001b[0m\u001b[0;34m(\u001b[0m\u001b[0moverview_db\u001b[0m\u001b[0;34m.\u001b[0m\u001b[0mcount_posts\u001b[0m\u001b[0;34m(\u001b[0m\u001b[0;34m)\u001b[0m\u001b[0;34m)\u001b[0m\u001b[0;34m\u001b[0m\u001b[0;34m\u001b[0m\u001b[0m\n",
      "\u001b[0;32m~/Desktop/Coding/Python/overview-as-telegram-channel/overview/utils/db_connection.py\u001b[0m in \u001b[0;36madd_post\u001b[0;34m(self, post)\u001b[0m\n\u001b[1;32m    121\u001b[0m         \u001b[0margs_str\u001b[0m \u001b[0;34m=\u001b[0m \u001b[0mcursor\u001b[0m\u001b[0;34m.\u001b[0m\u001b[0mmogrify\u001b[0m\u001b[0;34m(\u001b[0m\u001b[0minsert_statement\u001b[0m\u001b[0;34m,\u001b[0m \u001b[0;34m(\u001b[0m\u001b[0mAsIs\u001b[0m\u001b[0;34m(\u001b[0m\u001b[0;34m','\u001b[0m\u001b[0;34m.\u001b[0m\u001b[0mjoin\u001b[0m\u001b[0;34m(\u001b[0m\u001b[0mcolumns\u001b[0m\u001b[0;34m)\u001b[0m\u001b[0;34m)\u001b[0m\u001b[0;34m,\u001b[0m \u001b[0mtuple\u001b[0m\u001b[0;34m(\u001b[0m\u001b[0mvalues\u001b[0m\u001b[0;34m)\u001b[0m\u001b[0;34m)\u001b[0m\u001b[0;34m)\u001b[0m\u001b[0;34m\u001b[0m\u001b[0;34m\u001b[0m\u001b[0m\n\u001b[1;32m    122\u001b[0m \u001b[0;34m\u001b[0m\u001b[0m\n\u001b[0;32m--> 123\u001b[0;31m         \u001b[0mcursor\u001b[0m\u001b[0;34m.\u001b[0m\u001b[0mexecute\u001b[0m\u001b[0;34m(\u001b[0m\u001b[0margs_str\u001b[0m\u001b[0;34m)\u001b[0m\u001b[0;34m\u001b[0m\u001b[0;34m\u001b[0m\u001b[0m\n\u001b[0m\u001b[1;32m    124\u001b[0m \u001b[0;34m\u001b[0m\u001b[0m\n\u001b[1;32m    125\u001b[0m         \u001b[0mconn\u001b[0m\u001b[0;34m.\u001b[0m\u001b[0mcommit\u001b[0m\u001b[0;34m(\u001b[0m\u001b[0;34m)\u001b[0m\u001b[0;34m\u001b[0m\u001b[0;34m\u001b[0m\u001b[0m\n",
      "\u001b[0;32m~/.local/lib/python3.6/site-packages/psycopg2/extras.py\u001b[0m in \u001b[0;36mexecute\u001b[0;34m(self, query, vars)\u001b[0m\n\u001b[1;32m    246\u001b[0m         \u001b[0mself\u001b[0m\u001b[0;34m.\u001b[0m\u001b[0mcolumn_mapping\u001b[0m \u001b[0;34m=\u001b[0m \u001b[0;34m[\u001b[0m\u001b[0;34m]\u001b[0m\u001b[0;34m\u001b[0m\u001b[0;34m\u001b[0m\u001b[0m\n\u001b[1;32m    247\u001b[0m         \u001b[0mself\u001b[0m\u001b[0;34m.\u001b[0m\u001b[0m_query_executed\u001b[0m \u001b[0;34m=\u001b[0m \u001b[0;32mTrue\u001b[0m\u001b[0;34m\u001b[0m\u001b[0;34m\u001b[0m\u001b[0m\n\u001b[0;32m--> 248\u001b[0;31m         \u001b[0;32mreturn\u001b[0m \u001b[0msuper\u001b[0m\u001b[0;34m(\u001b[0m\u001b[0mRealDictCursor\u001b[0m\u001b[0;34m,\u001b[0m \u001b[0mself\u001b[0m\u001b[0;34m)\u001b[0m\u001b[0;34m.\u001b[0m\u001b[0mexecute\u001b[0m\u001b[0;34m(\u001b[0m\u001b[0mquery\u001b[0m\u001b[0;34m,\u001b[0m \u001b[0mvars\u001b[0m\u001b[0;34m)\u001b[0m\u001b[0;34m\u001b[0m\u001b[0;34m\u001b[0m\u001b[0m\n\u001b[0m\u001b[1;32m    249\u001b[0m \u001b[0;34m\u001b[0m\u001b[0m\n\u001b[1;32m    250\u001b[0m     \u001b[0;32mdef\u001b[0m \u001b[0mcallproc\u001b[0m\u001b[0;34m(\u001b[0m\u001b[0mself\u001b[0m\u001b[0;34m,\u001b[0m \u001b[0mprocname\u001b[0m\u001b[0;34m,\u001b[0m \u001b[0mvars\u001b[0m\u001b[0;34m=\u001b[0m\u001b[0;32mNone\u001b[0m\u001b[0;34m)\u001b[0m\u001b[0;34m:\u001b[0m\u001b[0;34m\u001b[0m\u001b[0;34m\u001b[0m\u001b[0m\n",
      "\u001b[0;31mNotNullViolation\u001b[0m: null value in column \"posted\" violates not-null constraint\nDETAIL:  Failing row contains (129, imgs/adelaide-canola-flowers.jpg, Chicago is the most populous city in the state of Illinois and t..., Chicago and Lake Michigan, 41.881944°, -87.627778°, null).\n"
     ]
    }
   ],
   "source": [
    "overview_db.add_post(post_1)\n",
    "\n",
    "print(overview_db.count_posts())"
   ]
  },
  {
   "cell_type": "code",
   "execution_count": 3,
   "metadata": {},
   "outputs": [
    {
     "name": "stdout",
     "output_type": "stream",
     "text": [
      "{'Total': 2, 'not_posted': 1}\n",
      "RealDictRow([('id', 125), ('path_to_image', 'imgs/adelaide-canola-flowers.jpg'), ('post_text', 'Chicago is the most populous city in the state of Illinois and the third most populous city in the United States, with upwards of 2.7 million people. Located on the shores of Lake Michigan, the city’s gridded avenues stretch from the vibrant waters. For a sense of scale, O’Hare International Airport, which covers 11.9 square miles (30.8 square km), is visible in the bottom left.'), ('post_header', 'Chicago and Lake Michigan'), ('coordinates', '41.881944°, -87.627778°'), ('posted', False)])\n"
     ]
    }
   ],
   "source": [
    "post = overview_db.get_a_post()\n",
    "print(overview_db.count_posts())\n",
    "print(post)"
   ]
  },
  {
   "cell_type": "code",
   "execution_count": 4,
   "metadata": {
    "scrolled": true
   },
   "outputs": [],
   "source": [
    "overview_db.delete_all_posts()"
   ]
  },
  {
   "cell_type": "code",
   "execution_count": 12,
   "metadata": {},
   "outputs": [
    {
     "name": "stdout",
     "output_type": "stream",
     "text": [
      "0\n"
     ]
    }
   ],
   "source": [
    "import telebot\n",
    "import telegram\n",
    "\n",
    "from telegram_bot import post_article\n",
    "\n",
    "with open('bot_token.txt', 'r') as f:\n",
    "    TOKEN = f.read()\n",
    "    f.close()\n",
    "    \n",
    "bot = telebot.TeleBot(TOKEN)\n",
    "\n",
    "OVERVIEW_ID = -1001308741280\n",
    "    \n",
    "count = overview_db.count_posts()\n",
    "print(count[\"Unposted\"])\n",
    "if count[\"Unposted\"] > 0:\n",
    "    \n",
    "    post = overview_db.get_a_post()\n",
    "    post_article(bot, OVERVIEW_ID, post)"
   ]
  },
  {
   "cell_type": "code",
   "execution_count": 19,
   "metadata": {
    "scrolled": false
   },
   "outputs": [
    {
     "name": "stdout",
     "output_type": "stream",
     "text": [
      "2020-07-14 22:51:12.291581\n"
     ]
    }
   ],
   "source": [
    "import datetime\n",
    "print(datetime.datetime.now())"
   ]
  },
  {
   "cell_type": "code",
   "execution_count": 25,
   "metadata": {},
   "outputs": [],
   "source": [
    "import glob\n",
    "\n",
    "\n",
    "files = glob.glob(os.getcwd()+\"/imgs/*\")\n",
    "for f in files:\n",
    "    os.remove(f)"
   ]
  },
  {
   "cell_type": "code",
   "execution_count": 78,
   "metadata": {},
   "outputs": [
    {
     "name": "stderr",
     "output_type": "stream",
     "text": [
      "ERROR:root:Deliberate divide by zero traceback\n",
      "Traceback (most recent call last):\n",
      "  File \"<ipython-input-78-cbc3f98b7654>\", line 3, in <module>\n",
      "    1/0\n",
      "ZeroDivisionError: division by zero\n"
     ]
    }
   ],
   "source": [
    "import logging\n",
    "try:\n",
    "    1/0\n",
    "except ZeroDivisionError:\n",
    "    logging.exception(\"Deliberate divide by zero traceback\")"
   ]
  },
  {
   "cell_type": "code",
   "execution_count": 90,
   "metadata": {},
   "outputs": [],
   "source": [
    "import datetime\n",
    "\n",
    "\n",
    "def logger(msg):\n",
    "    date = datetime.datetime.now()\n",
    "    with open(\"logs.txt\", 'a') as f:\n",
    "        f.write(str(date)+' : '+ msg + '\\n')\n",
    "\n",
    "\n",
    "info = overview_db.count_posts()\n",
    "error_msg = 'no posts left: ' + str(info)\n",
    "logger(error_msg)"
   ]
  },
  {
   "cell_type": "code",
   "execution_count": 27,
   "metadata": {},
   "outputs": [
    {
     "name": "stderr",
     "output_type": "stream",
     "text": [
      "[12:16:32] {<ipython-input-27-6920842a47a5>:13} ERROR - bruh\n"
     ]
    },
    {
     "name": "stdout",
     "output_type": "stream",
     "text": [
      "\n"
     ]
    }
   ],
   "source": [
    "import logging\n",
    "\n",
    "# logging.basicConfig(format='%(asctime)s %(message)s', datefmt='%m/%d/%Y %I:%M:%S')\n",
    "    # filename='log_file_name.log',\n",
    "logging.basicConfig(\n",
    "    level=logging.INFO, \n",
    "    format= '[%(asctime)s] {%(pathname)s:%(lineno)d} %(levelname)s - %(message)s',\n",
    "    datefmt='%H:%M:%S',\n",
    "    filename = \"example1.log\",\n",
    "    handlers=[logging.StreamHandler()]\n",
    ")\n",
    " \n",
    "logging.error(\"bruh\")\n",
    "\n",
    "with open('example1.log', 'r') as f:\n",
    "    print(f.read())\n",
    "    f.close()\n"
   ]
  },
  {
   "cell_type": "code",
   "execution_count": null,
   "metadata": {},
   "outputs": [],
   "source": []
  }
 ],
 "metadata": {
  "kernelspec": {
   "display_name": "Python 3",
   "language": "python",
   "name": "python3"
  },
  "language_info": {
   "codemirror_mode": {
    "name": "ipython",
    "version": 3
   },
   "file_extension": ".py",
   "mimetype": "text/x-python",
   "name": "python",
   "nbconvert_exporter": "python",
   "pygments_lexer": "ipython3",
   "version": "3.6.9"
  }
 },
 "nbformat": 4,
 "nbformat_minor": 2
}
